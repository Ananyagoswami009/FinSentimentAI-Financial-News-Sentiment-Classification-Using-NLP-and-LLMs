{
  "cells": [
    {
      "cell_type": "code",
      "execution_count": null,
      "metadata": {
        "id": "XVJlhe_Ok3mZ"
      },
      "outputs": [],
      "source": [
        "import pandas as pd\n",
        "from sklearn.model_selection import train_test_split\n",
        "from sklearn.feature_extraction.text import TfidfVectorizer\n",
        "from sklearn.naive_bayes import MultinomialNB\n",
        "from sklearn.metrics import classification_report, accuracy_score\n"
      ]
    },
    {
      "cell_type": "code",
      "execution_count": null,
      "metadata": {
        "id": "vi2pWcw1lDvk"
      },
      "outputs": [],
      "source": [
        "# Step 1: Load and preprocess the data\n",
        "df = pd.read_excel('train.xlsx')"
      ]
    },
    {
      "cell_type": "code",
      "execution_count": null,
      "metadata": {
        "id": "Ep7EUPfIlMSL"
      },
      "outputs": [],
      "source": [
        "# Clean the data (remove duplicates, handle missing values if any)\n",
        "df.drop_duplicates(inplace=True)\n",
        "df.dropna(inplace=True)"
      ]
    },
    {
      "cell_type": "code",
      "execution_count": null,
      "metadata": {
        "id": "VX_TR9salUom"
      },
      "outputs": [],
      "source": [
        "# Step 2: Encode categorical labels\n",
        "label_map = {'positive': 2, 'neutral': 1, 'negative': 0}  # Assuming this mapping based on sentiment values\n",
        "\n",
        "df['Sentiment'] = df['Sentiment'].apply(lambda x: label_map[x])\n"
      ]
    },
    {
      "cell_type": "code",
      "execution_count": null,
      "metadata": {
        "id": "2mUF8k-PlWg8"
      },
      "outputs": [],
      "source": [
        "# Step 3: Train-test split\n",
        "X_train, X_val, y_train, y_val = train_test_split(df['News Headline'], df['Sentiment'], test_size=0.2, random_state=42)\n"
      ]
    },
    {
      "cell_type": "code",
      "execution_count": null,
      "metadata": {
        "id": "Pn5Qw619la0F"
      },
      "outputs": [],
      "source": [
        "# Step 4: Text preprocessing and vectorization\n",
        "vectorizer = TfidfVectorizer(max_features=5000, stop_words='english')  # Adjust max_features based on vocabulary size\n",
        "X_train_vec = vectorizer.fit_transform(X_train)\n",
        "X_val_vec = vectorizer.transform(X_val)"
      ]
    },
    {
      "cell_type": "code",
      "execution_count": null,
      "metadata": {
        "id": "86TYzFlfleMW"
      },
      "outputs": [],
      "source": [
        "# Step 5: Choose a classification model and train\n",
        "model = MultinomialNB()\n",
        "model.fit(X_train_vec, y_train)\n",
        "\n",
        "# Step 6: Predict and evaluate\n",
        "y_pred = model.predict(X_val_vec)\n"
      ]
    },
    {
      "cell_type": "code",
      "execution_count": null,
      "metadata": {
        "colab": {
          "base_uri": "https://localhost:8080/"
        },
        "id": "bIPn7sCgliHn",
        "outputId": "835b708d-f948-4de1-cb58-d6d36f1941a7"
      },
      "outputs": [
        {
          "name": "stdout",
          "output_type": "stream",
          "text": [
            "Accuracy: 0.6740027510316369\n",
            "\n",
            "Classification Report:\n",
            "              precision    recall  f1-score   support\n",
            "\n",
            "    positive       1.00      0.04      0.07       103\n",
            "     neutral       0.69      0.97      0.81       425\n",
            "    negative       0.57      0.38      0.45       199\n",
            "\n",
            "    accuracy                           0.67       727\n",
            "   macro avg       0.76      0.46      0.45       727\n",
            "weighted avg       0.70      0.67      0.61       727\n",
            "\n"
          ]
        }
      ],
      "source": [
        "# Evaluate the model\n",
        "print(\"Accuracy:\", accuracy_score(y_val, y_pred))\n",
        "print(\"\\nClassification Report:\")\n",
        "print(classification_report(y_val, y_pred, target_names=label_map.keys()))"
      ]
    },
    {
      "cell_type": "code",
      "execution_count": null,
      "metadata": {
        "colab": {
          "base_uri": "https://localhost:8080/"
        },
        "id": "2yMjM3Upl10B",
        "outputId": "620ef80a-62ed-4ef2-9333-53c0cf0bcc4e"
      },
      "outputs": [
        {
          "name": "stdout",
          "output_type": "stream",
          "text": [
            "Predicted sentiment for 'Stocks surge as earnings exceed expectations': positive\n"
          ]
        }
      ],
      "source": [
        "def predict_sentiment(model, vectorizer, headline):\n",
        "    headline_vec = vectorizer.transform([headline])\n",
        "    prediction = model.predict(headline_vec)\n",
        "    for sentiment, label in label_map.items():\n",
        "        if label == prediction[0]:\n",
        "            return sentiment\n",
        "\n",
        "# Example usage:\n",
        "headline = \"Stocks surge as earnings exceed expectations\"\n",
        "predicted_sentiment = predict_sentiment(model, vectorizer, headline)\n",
        "print(f\"Predicted sentiment for '{headline}': {predicted_sentiment}\")\n",
        "\n"
      ]
    },
    {
      "cell_type": "code",
      "execution_count": null,
      "metadata": {
        "colab": {
          "base_uri": "https://localhost:8080/"
        },
        "id": "WAK0po__l4Hv",
        "outputId": "0a298a88-227b-4d44-8096-554ca5f580b3"
      },
      "outputs": [
        {
          "name": "stdout",
          "output_type": "stream",
          "text": [
            "Predicted sentiment for 'The value of the orders is over EUR 25mn .': neutral\n"
          ]
        }
      ],
      "source": [
        "# Example usage:\n",
        "headline = \"The value of the orders is over EUR 25mn .\"\n",
        "predicted_sentiment = predict_sentiment(model, vectorizer, headline)\n",
        "print(f\"Predicted sentiment for '{headline}': {predicted_sentiment}\")"
      ]
    },
    {
      "cell_type": "code",
      "execution_count": null,
      "metadata": {
        "colab": {
          "base_uri": "https://localhost:8080/"
        },
        "id": "Fj9iBqPcB6c4",
        "outputId": "e3db0ab7-5670-4334-aec5-94cada5069b2"
      },
      "outputs": [
        {
          "name": "stdout",
          "output_type": "stream",
          "text": [
            "Predicted sentiment for 'Pretax loss totalled EUR 49.9 mn , compared to a loss of EUR 15.4 mn in the corresponding period in 2008 .': negative\n"
          ]
        }
      ],
      "source": [
        "# Example usage:\n",
        "headline = \"Pretax loss totalled EUR 49.9 mn , compared to a loss of EUR 15.4 mn in the corresponding period in 2008 .\"\n",
        "predicted_sentiment = predict_sentiment(model, vectorizer, headline)\n",
        "print(f\"Predicted sentiment for '{headline}': {predicted_sentiment}\")"
      ]
    },
    {
      "cell_type": "code",
      "execution_count": null,
      "metadata": {
        "colab": {
          "base_uri": "https://localhost:8080/"
        },
        "id": "w8YEsZpVBp8f",
        "outputId": "6d1596ce-08af-4ece-d684-cf3821b73d2c"
      },
      "outputs": [
        {
          "name": "stdout",
          "output_type": "stream",
          "text": [
            "Predicted sentiment for 'Steve Jackson , eBusiness Analyst at Satama and former CEO of Aboavista said : `` Google broke the mold when they gave away Google Analytics for free .': neutral\n"
          ]
        }
      ],
      "source": [
        "# Example usage:\n",
        "headline = \"Steve Jackson , eBusiness Analyst at Satama and former CEO of Aboavista said : `` Google broke the mold when they gave away Google Analytics for free .\"\n",
        "predicted_sentiment = predict_sentiment(model, vectorizer, headline)\n",
        "print(f\"Predicted sentiment for '{headline}': {predicted_sentiment}\")"
      ]
    },
    {
      "cell_type": "code",
      "execution_count": null,
      "metadata": {
        "colab": {
          "base_uri": "https://localhost:8080/"
        },
        "id": "glSqxC6oBVjQ",
        "outputId": "e71485d3-315e-4c4d-ed4b-c0d29b3fd344"
      },
      "outputs": [
        {
          "name": "stdout",
          "output_type": "stream",
          "text": [
            "Predicted sentiment for 'Operating profit in the fourth quarter went down to EUR3m from EUR4 .2 m for the corresponding period of 2009 as it included costs of growth projects .': positive\n"
          ]
        }
      ],
      "source": [
        "# Example usage:\n",
        "headline = \"Operating profit in the fourth quarter went down to EUR3m from EUR4 .2 m for the corresponding period of 2009 as it included costs of growth projects .\"\n",
        "predicted_sentiment = predict_sentiment(model, vectorizer, headline)\n",
        "print(f\"Predicted sentiment for '{headline}': {predicted_sentiment}\")"
      ]
    },
    {
      "cell_type": "code",
      "execution_count": null,
      "metadata": {
        "colab": {
          "base_uri": "https://localhost:8080/"
        },
        "id": "vLPeSNrUCnKS",
        "outputId": "f4834637-6428-483c-e5f7-ef06535ba91a"
      },
      "outputs": [
        {
          "name": "stdout",
          "output_type": "stream",
          "text": [
            "Predicted sentiment for 'A tinyurl link takes users to a scamming site promising that users can earn thousands of dollars by becoming a Google ( NASDAQ : GOOG ) Cash advertiser .': neutral\n"
          ]
        }
      ],
      "source": [
        "# Example usage:\n",
        "headline = \"A tinyurl link takes users to a scamming site promising that users can earn thousands of dollars by becoming a Google ( NASDAQ : GOOG ) Cash advertiser .\"\n",
        "predicted_sentiment = predict_sentiment(model, vectorizer, headline)\n",
        "print(f\"Predicted sentiment for '{headline}': {predicted_sentiment}\")"
      ]
    },
    {
      "cell_type": "code",
      "execution_count": null,
      "metadata": {
        "colab": {
          "base_uri": "https://localhost:8080/"
        },
        "id": "qFfPJvkL5HUf",
        "outputId": "088fdf8b-e7db-4f6e-b4f9-328fa91545dd"
      },
      "outputs": [
        {
          "name": "stdout",
          "output_type": "stream",
          "text": [
            "\n",
            "No historical prices found for any negative sentiment headlines.\n",
            "Nokia competes with Google in the field of 5G technology.\n"
          ]
        }
      ],
      "source": [
        "import pandas as pd\n",
        "import datetime\n",
        "\n",
        "# Dummy function to fetch historical stock prices (replace with actual API or database query)\n",
        "def fetch_historical_stock_prices(symbol, date):\n",
        "    # Mock data for illustration\n",
        "    historical_prices = {\n",
        "        '2024-01-01': 5.67,\n",
        "        '2024-01-02': 5.72,\n",
        "        '2024-01-03': 5.65,\n",
        "        '2024-01-04': 5.55,\n",
        "        '2024-01-05': 5.60,\n",
        "        '2024-01-06': 5.58,\n",
        "        '2024-01-07': 5.63,\n",
        "        '2024-01-08': 5.61,\n",
        "        '2024-01-09': 5.59,\n",
        "        '2024-01-10': 5.62,\n",
        "    }\n",
        "    return historical_prices.get(date, None)  # Return price for specific date or None if not found\n",
        "\n",
        "# Load dataset (replace with actual path to your Excel file)\n",
        "file_path = '/content/train.xlsx'  # Update this path if necessary\n",
        "df = pd.read_excel(file_path)\n",
        "\n",
        "# Filter headlines with negative sentiment (replace with actual column names as per your dataset)\n",
        "negative_headlines = df[df['Sentiment'] == 'NEGATIVE'][['News Headline']]\n",
        "\n",
        "lowest_price = None\n",
        "lowest_price_date = None\n",
        "\n",
        "# Function to determine the field Nokia competes with Google in (this is illustrative)\n",
        "def determine_competing_field():\n",
        "    return \"5G technology\"\n",
        "\n",
        "# Iterate over each headline with negative sentiment\n",
        "for index, row in negative_headlines.iterrows():\n",
        "    headline = row['News Headline']\n",
        "\n",
        "    # Fetch historical stock price for Nokia on this day (assuming a mock function)\n",
        "    date_of_headline = datetime.datetime.strptime(str(row.name), '%Y-%m-%d').date()  # Adjust as per your data\n",
        "    historical_price = fetch_historical_stock_prices('NOK', str(date_of_headline))\n",
        "\n",
        "    if historical_price is not None:\n",
        "        print(f\"On the day with negative sentiment '{headline}', the Nokia share price was ${historical_price:.2f}\")\n",
        "\n",
        "        # Track lowest price\n",
        "        if lowest_price is None or historical_price < lowest_price:\n",
        "            lowest_price = historical_price\n",
        "            lowest_price_date = date_of_headline\n",
        "    else:\n",
        "        print(f\"No historical price found for Nokia on the day with negative sentiment '{headline}' (Date: {date_of_headline})\")\n",
        "\n",
        "if lowest_price is not None:\n",
        "    print(f\"\\nLowest historical Nokia share price on days with negative sentiment was ${lowest_price:.2f} on {lowest_price_date}\")\n",
        "else:\n",
        "    print(\"\\nNo historical prices found for any negative sentiment headlines.\")\n",
        "\n",
        "# Determine the field in which Nokia competes with Google\n",
        "competing_field = determine_competing_field()\n",
        "print(f\"Nokia competes with Google in the field of {competing_field}.\")\n"
      ]
    }
  ],
  "metadata": {
    "colab": {
      "provenance": []
    },
    "kernelspec": {
      "display_name": "Python 3",
      "name": "python3"
    },
    "language_info": {
      "name": "python"
    }
  },
  "nbformat": 4,
  "nbformat_minor": 0
}
